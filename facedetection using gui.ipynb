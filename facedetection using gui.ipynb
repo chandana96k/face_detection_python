{
 "cells": [
  {
   "cell_type": "code",
   "execution_count": 3,
   "id": "ac09b3a5",
   "metadata": {},
   "outputs": [],
   "source": [
    "# to install opencv use command:\n",
    "# !pip install opencv-python\n",
    "\n",
    "import cv2\n",
    "import tkinter as tk\n",
    "from tkinter import filedialog\n",
    "from PIL import Image, ImageTk\n",
    "\n",
    "def detect_faces():\n",
    "    # Load the image selected by the user\n",
    "    file_path = filedialog.askopenfilename()\n",
    "    image = cv2.imread(file_path)\n",
    "    image_gray = cv2.cvtColor(image, cv2.COLOR_BGR2GRAY)\n",
    "\n",
    "    # Load the pre-trained Haar Cascade classifier for face detection\n",
    "    face_cascade = cv2.CascadeClassifier(cv2.data.haarcascades + 'haarcascade_frontalface_default.xml')\n",
    "    \n",
    "    # Detect faces in the image\n",
    "    faces = face_cascade.detectMultiScale(image_gray, scaleFactor=1.1, minNeighbors=5, minSize=(30, 30))\n",
    "\n",
    "    # Draw rectangles around the detected faces\n",
    "    for (x, y, w, h) in faces:\n",
    "        cv2.rectangle(image, (x, y), (x+w, y+h), (0, 255, 0), 2)\n",
    "\n",
    "    # Convert the image to RGB format for displaying with Tkinter\n",
    "    image_rgb = cv2.cvtColor(image, cv2.COLOR_BGR2RGB)\n",
    "    image_pil = Image.fromarray(image_rgb)\n",
    "    imgtk = ImageTk.PhotoImage(image=image_pil)\n",
    "\n",
    "    # Update the label with the image containing face detections\n",
    "    image_label.imgtk = imgtk\n",
    "    image_label.config(image=imgtk)\n",
    "\n",
    "# Create the main GUI window\n",
    "root = tk.Tk()\n",
    "root.geometry(\"500x500\")\n",
    "root.title(\"Face Detection GUI\")\n",
    "\n",
    "# Create a label for displaying the image\n",
    "image_label = tk.Label(root)\n",
    "image_label.pack(padx=10, pady=10)\n",
    "\n",
    "# Create a button for selecting an image and triggering face detection\n",
    "detect_button = tk.Button(root, text=\"Detect Faces\", command=detect_faces)\n",
    "detect_button.pack(pady=5)\n",
    "\n",
    "# Run the main event loop\n",
    "root.mainloop()"
   ]
  },
  {
   "cell_type": "code",
   "execution_count": null,
   "id": "ec67c113",
   "metadata": {},
   "outputs": [],
   "source": []
  }
 ],
 "metadata": {
  "kernelspec": {
   "display_name": "Python 3 (ipykernel)",
   "language": "python",
   "name": "python3"
  },
  "language_info": {
   "codemirror_mode": {
    "name": "ipython",
    "version": 3
   },
   "file_extension": ".py",
   "mimetype": "text/x-python",
   "name": "python",
   "nbconvert_exporter": "python",
   "pygments_lexer": "ipython3",
   "version": "3.10.9"
  }
 },
 "nbformat": 4,
 "nbformat_minor": 5
}
